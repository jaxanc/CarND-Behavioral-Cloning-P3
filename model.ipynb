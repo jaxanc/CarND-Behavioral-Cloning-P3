{
 "cells": [
  {
   "cell_type": "markdown",
   "metadata": {},
   "source": [
    "# Behavioral Cloning Project"
   ]
  },
  {
   "cell_type": "markdown",
   "metadata": {},
   "source": [
    "## Libraries"
   ]
  },
  {
   "cell_type": "code",
   "execution_count": 1,
   "metadata": {},
   "outputs": [
    {
     "name": "stderr",
     "output_type": "stream",
     "text": [
      "Using TensorFlow backend.\n"
     ]
    }
   ],
   "source": [
    "import os\n",
    "import csv\n",
    "import cv2\n",
    "import numpy as np\n",
    "import sklearn\n",
    "from sklearn.model_selection import train_test_split\n",
    "import matplotlib.pyplot as plt\n",
    "import matplotlib.image as mpimg\n",
    "import tensorflow as tf\n",
    "from keras.models import Sequential\n",
    "from keras.layers import Lambda, Flatten, Dense, Convolution2D, Dropout\n",
    "from keras.models import load_model\n",
    "from keras import callbacks\n",
    "from keras.optimizers import Adam"
   ]
  },
  {
   "cell_type": "markdown",
   "metadata": {},
   "source": [
    "## Constants"
   ]
  },
  {
   "cell_type": "code",
   "execution_count": 2,
   "metadata": {
    "collapsed": true
   },
   "outputs": [],
   "source": [
    "# Correction to apply for left and right camera images to simulate additonal data\n",
    "correction = 0.25\n",
    "\n",
    "# Range of pixels to translate the image\n",
    "trans_range = 20"
   ]
  },
  {
   "cell_type": "markdown",
   "metadata": {},
   "source": [
    "Load different datasets"
   ]
  },
  {
   "cell_type": "code",
   "execution_count": 3,
   "metadata": {
    "collapsed": true
   },
   "outputs": [],
   "source": [
    "dataLocation = './data/Udacity/'\n",
    "#dataLocation = './data/MyData/'\n",
    "#dataLocation = './data/Track2/'"
   ]
  },
  {
   "cell_type": "markdown",
   "metadata": {},
   "source": [
    "Udacity data appears to be recorded on a linux machine wheras I am running windows. The directory separaters are opposite each other"
   ]
  },
  {
   "cell_type": "code",
   "execution_count": 4,
   "metadata": {
    "collapsed": true
   },
   "outputs": [],
   "source": [
    "directorySplitter = '/'\n",
    "#directorySplitter = '\\\\'"
   ]
  },
  {
   "cell_type": "markdown",
   "metadata": {},
   "source": [
    "## Load Training Logs"
   ]
  },
  {
   "cell_type": "code",
   "execution_count": 5,
   "metadata": {},
   "outputs": [
    {
     "data": {
      "text/plain": [
       "['center', 'left', 'right', 'steering', 'throttle', 'brake', 'speed']"
      ]
     },
     "execution_count": 5,
     "metadata": {},
     "output_type": "execute_result"
    }
   ],
   "source": [
    "samples = []\n",
    "with open(dataLocation + 'driving_log.csv') as csvfile:\n",
    "    reader = csv.reader(csvfile)\n",
    "    for line in reader:\n",
    "        samples.append(line)\n",
    "\n",
    "# to remove header in Udacity dataset\n",
    "# can leave it in for recorded data as missing one frame is negligible\n",
    "samples.pop(0)"
   ]
  },
  {
   "cell_type": "markdown",
   "metadata": {},
   "source": [
    "## Split Training and Validation Samples"
   ]
  },
  {
   "cell_type": "code",
   "execution_count": 6,
   "metadata": {
    "collapsed": true
   },
   "outputs": [],
   "source": [
    "train_samples, validation_samples = train_test_split(samples, test_size = 0.2)"
   ]
  },
  {
   "cell_type": "markdown",
   "metadata": {},
   "source": [
    "## Image Preprocessing"
   ]
  },
  {
   "cell_type": "markdown",
   "metadata": {},
   "source": [
    "Crop top and bottom images to remove sky and front of the car.\n",
    "\n",
    "Then scale the image to be equivalent to NVIDIA's paper"
   ]
  },
  {
   "cell_type": "code",
   "execution_count": 7,
   "metadata": {
    "collapsed": true
   },
   "outputs": [],
   "source": [
    "def image_preprocessing(image):\n",
    "    # crop to 90x320x3\n",
    "    image = image[50:140,:,:]\n",
    "    \n",
    "    # scale to 66x200x3 (same as NVIDIA)\n",
    "    image = cv2.resize(image,(200, 66), interpolation = cv2.INTER_AREA)\n",
    "\n",
    "    # convert to YUV color space (same as NVIDIA)\n",
    "    return cv2.cvtColor(image, cv2.COLOR_BGR2YUV)"
   ]
  },
  {
   "cell_type": "markdown",
   "metadata": {},
   "source": [
    "## Generators"
   ]
  },
  {
   "cell_type": "code",
   "execution_count": 8,
   "metadata": {
    "collapsed": true
   },
   "outputs": [],
   "source": [
    "def generator_training(samples, batch_size=32):\n",
    "    while 1: # Loop forever so the generator never terminates\n",
    "        sklearn.utils.shuffle(samples)\n",
    "        for offset in range(0, len(samples), batch_size):\n",
    "            batch_samples = samples[offset:offset+batch_size]\n",
    "\n",
    "            images = []\n",
    "            angles = []\n",
    "            for batch_sample in batch_samples:\n",
    "                center_image = cv2.imread(dataLocation + '/IMG/'+batch_sample[0].split(directorySplitter)[-1])\n",
    "                left_image = cv2.imread(dataLocation + '/IMG/'+batch_sample[1].split(directorySplitter)[-1])\n",
    "                right_image = cv2.imread(dataLocation + '/IMG/'+batch_sample[2].split(directorySplitter)[-1])\n",
    "                \n",
    "                center_angle = float(batch_sample[3])\n",
    "                left_angle = center_angle + correction\n",
    "                right_angle = center_angle - correction\n",
    "                \n",
    "                # Randomly flips the images to help create even amount of left turns and right turns\n",
    "                if np.random.rand() > .5:\n",
    "                    center_image = cv2.flip(center_image, 1)\n",
    "                    left_image = cv2.flip(left_image, 1)\n",
    "                    right_image = cv2.flip(right_image, 1)\n",
    "                    center_angle *= -1\n",
    "                    left_angle *= -1\n",
    "                    right_angle *= -1\n",
    "                \n",
    "                images.append(image_preprocessing(center_image))\n",
    "                images.append(image_preprocessing(left_image))\n",
    "                images.append(image_preprocessing(right_image))\n",
    "\n",
    "                angles.append(center_angle)\n",
    "                angles.append(left_angle)\n",
    "                angles.append(right_angle)\n",
    "\n",
    "            X_train = np.array(images)\n",
    "            y_train = np.array(angles)\n",
    "            yield sklearn.utils.shuffle(X_train, y_train)"
   ]
  },
  {
   "cell_type": "code",
   "execution_count": 9,
   "metadata": {
    "collapsed": true
   },
   "outputs": [],
   "source": [
    "def generator_validation(samples, batch_size=32):\n",
    "    while 1: # Loop forever so the generator never terminates\n",
    "        sklearn.utils.shuffle(samples)\n",
    "        for offset in range(0, len(samples), batch_size):\n",
    "            batch_samples = samples[offset:offset+batch_size]\n",
    "\n",
    "            images = []\n",
    "            angles = []\n",
    "            for batch_sample in batch_samples:\n",
    "                center_image = cv2.imread(dataLocation + '/IMG/'+batch_sample[0].split(directorySplitter)[-1])\n",
    "                left_image = cv2.imread(dataLocation + '/IMG/'+batch_sample[1].split(directorySplitter)[-1])\n",
    "                right_image = cv2.imread(dataLocation + '/IMG/'+batch_sample[2].split(directorySplitter)[-1])\n",
    "                \n",
    "                center_angle = float(batch_sample[3])\n",
    "                left_angle = center_angle + correction\n",
    "                right_angle = center_angle - correction\n",
    "                \n",
    "                images.append(image_preprocessing(center_image))\n",
    "                images.append(image_preprocessing(left_image))\n",
    "                images.append(image_preprocessing(right_image))\n",
    "                \n",
    "                angles.append(center_angle)\n",
    "                angles.append(left_angle)\n",
    "                angles.append(right_angle)\n",
    "\n",
    "            X_train = np.array(images)\n",
    "            y_train = np.array(angles)\n",
    "            yield sklearn.utils.shuffle(X_train, y_train)"
   ]
  },
  {
   "cell_type": "code",
   "execution_count": 10,
   "metadata": {
    "collapsed": true
   },
   "outputs": [],
   "source": [
    "# compile and train the model using the generator function\n",
    "train_generator = generator_training(train_samples, batch_size = 256)\n",
    "validation_generator = generator_validation(validation_samples, batch_size = 256)"
   ]
  },
  {
   "cell_type": "markdown",
   "metadata": {},
   "source": [
    "## Model Architecture"
   ]
  },
  {
   "cell_type": "code",
   "execution_count": 11,
   "metadata": {
    "collapsed": true
   },
   "outputs": [],
   "source": [
    "def nvidia_model():   \n",
    "    model = Sequential()\n",
    "    \n",
    "    model.add(Lambda(lambda x: x/127.5 - 1.0, input_shape = (66,200,3)))\n",
    "    \n",
    "    model.add(Convolution2D(24, 5, 5, subsample = (2, 2), border_mode = \"valid\", activation = 'elu'))\n",
    "    model.add(Convolution2D(36, 5, 5, subsample = (2, 2), border_mode = \"valid\", activation = 'elu'))\n",
    "    model.add(Convolution2D(48, 5, 5, subsample = (2, 2), border_mode = \"valid\", activation = 'elu'))\n",
    "    model.add(Convolution2D(64, 3, 3, subsample = (1, 1), border_mode = \"valid\", activation = 'elu'))\n",
    "    model.add(Convolution2D(64, 3, 3, subsample = (1, 1), border_mode = \"valid\", activation = 'elu'))\n",
    "    \n",
    "    model.add(Flatten())\n",
    "    \n",
    "    model.add(Dense(100, activation = 'elu'))\n",
    "    model.add(Dropout(0.5))\n",
    "    model.add(Dense(50, activation = 'elu'))\n",
    "    model.add(Dropout(0.3))\n",
    "    model.add(Dense(10, activation = 'elu'))\n",
    "    model.add(Dropout(0.1))\n",
    "    model.add(Dense(1, activation = 'elu'))\n",
    "    \n",
    "    model.summary()\n",
    "    \n",
    "    return model"
   ]
  },
  {
   "cell_type": "code",
   "execution_count": 12,
   "metadata": {
    "scrolled": false
   },
   "outputs": [
    {
     "name": "stdout",
     "output_type": "stream",
     "text": [
      "____________________________________________________________________________________________________\n",
      "Layer (type)                     Output Shape          Param #     Connected to                     \n",
      "====================================================================================================\n",
      "lambda_1 (Lambda)                (None, 66, 200, 3)    0           lambda_input_1[0][0]             \n",
      "____________________________________________________________________________________________________\n",
      "convolution2d_1 (Convolution2D)  (None, 31, 98, 24)    1824        lambda_1[0][0]                   \n",
      "____________________________________________________________________________________________________\n",
      "convolution2d_2 (Convolution2D)  (None, 14, 47, 36)    21636       convolution2d_1[0][0]            \n",
      "____________________________________________________________________________________________________\n",
      "convolution2d_3 (Convolution2D)  (None, 5, 22, 48)     43248       convolution2d_2[0][0]            \n",
      "____________________________________________________________________________________________________\n",
      "convolution2d_4 (Convolution2D)  (None, 3, 20, 64)     27712       convolution2d_3[0][0]            \n",
      "____________________________________________________________________________________________________\n",
      "convolution2d_5 (Convolution2D)  (None, 1, 18, 64)     36928       convolution2d_4[0][0]            \n",
      "____________________________________________________________________________________________________\n",
      "flatten_1 (Flatten)              (None, 1152)          0           convolution2d_5[0][0]            \n",
      "____________________________________________________________________________________________________\n",
      "dense_1 (Dense)                  (None, 100)           115300      flatten_1[0][0]                  \n",
      "____________________________________________________________________________________________________\n",
      "dropout_1 (Dropout)              (None, 100)           0           dense_1[0][0]                    \n",
      "____________________________________________________________________________________________________\n",
      "dense_2 (Dense)                  (None, 50)            5050        dropout_1[0][0]                  \n",
      "____________________________________________________________________________________________________\n",
      "dropout_2 (Dropout)              (None, 50)            0           dense_2[0][0]                    \n",
      "____________________________________________________________________________________________________\n",
      "dense_3 (Dense)                  (None, 10)            510         dropout_2[0][0]                  \n",
      "____________________________________________________________________________________________________\n",
      "dropout_3 (Dropout)              (None, 10)            0           dense_3[0][0]                    \n",
      "____________________________________________________________________________________________________\n",
      "dense_4 (Dense)                  (None, 1)             11          dropout_3[0][0]                  \n",
      "====================================================================================================\n",
      "Total params: 252,219\n",
      "Trainable params: 252,219\n",
      "Non-trainable params: 0\n",
      "____________________________________________________________________________________________________\n"
     ]
    }
   ],
   "source": [
    "# For creating a new model\n",
    "model = nvidia_model()\n",
    "\n",
    "# Load the pretrained model to train on another data set\n",
    "#model = load_model('model.h5')"
   ]
  },
  {
   "cell_type": "markdown",
   "metadata": {},
   "source": [
    "## Training the Model"
   ]
  },
  {
   "cell_type": "code",
   "execution_count": 13,
   "metadata": {
    "scrolled": false
   },
   "outputs": [
    {
     "name": "stdout",
     "output_type": "stream",
     "text": [
      "Epoch 1/15\n",
      "19200/19284 [============================>.] - ETA: 0s - loss: 0.0595Epoch 00000: val_loss improved from inf to 0.03541, saving model to model.h5\n",
      "19284/19284 [==============================] - 62s - loss: 0.0594 - val_loss: 0.0354\n",
      "Epoch 2/15\n",
      "19200/19284 [============================>.] - ETA: 0s - loss: 0.0381Epoch 00001: val_loss improved from 0.03541 to 0.03218, saving model to model.h5\n",
      "19284/19284 [==============================] - 50s - loss: 0.0382 - val_loss: 0.0322\n",
      "Epoch 3/15\n",
      "19200/19284 [============================>.] - ETA: 0s - loss: 0.0327Epoch 00002: val_loss improved from 0.03218 to 0.02837, saving model to model.h5\n",
      "19284/19284 [==============================] - 50s - loss: 0.0328 - val_loss: 0.0284\n",
      "Epoch 4/15\n",
      "19200/19284 [============================>.] - ETA: 0s - loss: 0.0298Epoch 00003: val_loss improved from 0.02837 to 0.02717, saving model to model.h5\n",
      "19284/19284 [==============================] - 50s - loss: 0.0299 - val_loss: 0.0272\n",
      "Epoch 5/15\n",
      "19200/19284 [============================>.] - ETA: 0s - loss: 0.0287Epoch 00004: val_loss improved from 0.02717 to 0.02576, saving model to model.h5\n",
      "19284/19284 [==============================] - 50s - loss: 0.0287 - val_loss: 0.0258\n",
      "Epoch 6/15\n",
      "19200/19284 [============================>.] - ETA: 0s - loss: 0.0276Epoch 00005: val_loss did not improve\n",
      "19284/19284 [==============================] - 50s - loss: 0.0276 - val_loss: 0.0264\n",
      "Epoch 7/15\n",
      "19200/19284 [============================>.] - ETA: 0s - loss: 0.0274Epoch 00006: val_loss did not improve\n",
      "19284/19284 [==============================] - 50s - loss: 0.0275 - val_loss: 0.0265\n",
      "Epoch 8/15\n",
      "19200/19284 [============================>.] - ETA: 0s - loss: 0.0259Epoch 00007: val_loss improved from 0.02576 to 0.02490, saving model to model.h5\n",
      "19284/19284 [==============================] - 50s - loss: 0.0259 - val_loss: 0.0249\n",
      "Epoch 9/15\n",
      "19200/19284 [============================>.] - ETA: 0s - loss: 0.0253Epoch 00008: val_loss did not improve\n",
      "19284/19284 [==============================] - 50s - loss: 0.0252 - val_loss: 0.0249\n"
     ]
    }
   ],
   "source": [
    "model_path = os.path.expanduser('model.h5')\n",
    "save_best = callbacks.ModelCheckpoint(model_path, \n",
    "                                      monitor = 'val_loss', \n",
    "                                      verbose = 1, \n",
    "                                      save_best_only = True, \n",
    "                                      mode = 'min')\n",
    "early_stop = callbacks.EarlyStopping(monitor = 'val_loss', \n",
    "                                     min_delta = 0.001, \n",
    "                                     patience = 3, \n",
    "                                     verbose = 0, \n",
    "                                     mode = 'auto')\n",
    "callbacks_list = [early_stop, save_best]\n",
    "\n",
    "model.compile(loss = 'mse', optimizer = 'adam')\n",
    "history_object = model.fit_generator(train_generator, \n",
    "                                     samples_per_epoch = len(train_samples)*3, # 3 images per frame\n",
    "                                     validation_data = validation_generator,\n",
    "                                     nb_val_samples = len(validation_samples)*3, # 3 images per frame\n",
    "                                     nb_epoch = 15,\n",
    "                                     callbacks = callbacks_list)"
   ]
  },
  {
   "cell_type": "markdown",
   "metadata": {},
   "source": [
    "## Visualize losses"
   ]
  },
  {
   "cell_type": "code",
   "execution_count": 14,
   "metadata": {},
   "outputs": [
    {
     "data": {
      "image/png": "[encoded data removed]",
      "text/plain": [
       "<matplotlib.figure.Figure at 0xe5cb2e8>"
      ]
     },
     "metadata": {},
     "output_type": "display_data"
    }
   ],
   "source": [
    "# plot the training and validation loss for each epoch\n",
    "plt.figure\n",
    "plt.plot(history_object.history['loss'])\n",
    "plt.plot(history_object.history['val_loss'])\n",
    "plt.title('model mean squared error loss')\n",
    "plt.ylabel('mean squared error loss')\n",
    "plt.xlabel('epoch')\n",
    "plt.legend(['training set', 'validation set'], loc='upper right')\n",
    "plt.show()"
   ]
  }
 ],
 "metadata": {
  "kernelspec": {
   "display_name": "Python 3",
   "language": "python",
   "name": "python3"
  },
  "language_info": {
   "codemirror_mode": {
    "name": "ipython",
    "version": 3
   },
   "file_extension": ".py",
   "mimetype": "text/x-python",
   "name": "python",
   "nbconvert_exporter": "python",
   "pygments_lexer": "ipython3",
   "version": "3.5.2"
  },
  "widgets": {
   "state": {},
   "version": "1.1.2"
  }
 },
 "nbformat": 4,
 "nbformat_minor": 2
}
