{
 "cells": [
  {
   "cell_type": "code",
   "execution_count": null,
   "metadata": {},
   "outputs": [],
   "source": [
    "from keras.applications.vgg16 import VGG16\n",
    "from keras.preprocessing import image\n",
    "from keras.applications.vgg19 import preprocess_input\n",
    "from keras.models import Model\n",
    "from keras.layers import Dense, Flatten, Input, GlobalAveragePooling2D, Dropout\n",
    "import numpy as np\n",
    "import os\n",
    "import csv\n",
    "import cv2\n",
    "import sklearn\n",
    "from sklearn.model_selection import train_test_split\n",
    "import matplotlib.pyplot as plt\n",
    "import matplotlib.image as mpimg\n",
    "import tensorflow as tf\n",
    "from keras import callbacks\n",
    "from keras.optimizers import Adam"
   ]
  },
  {
   "cell_type": "code",
   "execution_count": null,
   "metadata": {
    "collapsed": true
   },
   "outputs": [],
   "source": [
    "correction = 0.25\n",
    "trans_range = 20\n",
    "\n",
    "dataLocation = './data/Track2/'\n",
    "directorySplitter = '\\\\'"
   ]
  },
  {
   "cell_type": "code",
   "execution_count": null,
   "metadata": {
    "collapsed": true
   },
   "outputs": [],
   "source": [
    "samples = []\n",
    "with open(dataLocation + 'driving_log.csv') as csvfile:\n",
    "    reader = csv.reader(csvfile)\n",
    "    for line in reader:\n",
    "        samples.append(line)\n",
    "\n",
    "# to remove header in Udacity dataset\n",
    "#samples.pop(0)\n",
    "\n",
    "train_samples, validation_samples = train_test_split(samples, test_size = 0.2)"
   ]
  },
  {
   "cell_type": "code",
   "execution_count": null,
   "metadata": {
    "collapsed": true
   },
   "outputs": [],
   "source": [
    "def augment_brightness_camera_images(image):\n",
    "    image1 = cv2.cvtColor(image,cv2.COLOR_BGR2HSV)\n",
    "    image1 = np.array(image1, dtype = np.float64)\n",
    "    random_bright = .5+np.random.uniform()\n",
    "    image1[:,:,2] = image1[:,:,2]*random_bright\n",
    "    image1[:,:,2][image1[:,:,2]>255]  = 255\n",
    "    image1 = np.array(image1, dtype = np.uint8)\n",
    "    image1 = cv2.cvtColor(image1,cv2.COLOR_HSV2BGR)\n",
    "    return image1"
   ]
  },
  {
   "cell_type": "code",
   "execution_count": null,
   "metadata": {
    "collapsed": true
   },
   "outputs": [],
   "source": [
    "def trans_image(image,steer,trans_range):\n",
    "    rows,cols,ch = image.shape\n",
    "    # Translation\n",
    "    tr_x = trans_range*np.random.uniform()-trans_range/2\n",
    "    steer_ang = steer + tr_x/trans_range*2*.2\n",
    "    tr_y = 40*np.random.uniform()-40/2\n",
    "    #tr_y = 0\n",
    "    Trans_M = np.float32([[1,0,tr_x],[0,1,tr_y]])\n",
    "    image_tr = cv2.warpAffine(image,Trans_M,(cols,rows))\n",
    "    \n",
    "    return image_tr,steer_ang"
   ]
  },
  {
   "cell_type": "code",
   "execution_count": null,
   "metadata": {
    "collapsed": true
   },
   "outputs": [],
   "source": [
    "def add_random_shadow(image):\n",
    "    top_y = 320*np.random.uniform()\n",
    "    top_x = 0\n",
    "    bot_x = 160\n",
    "    bot_y = 320*np.random.uniform()\n",
    "    image_hls = cv2.cvtColor(image,cv2.COLOR_BGR2HLS)\n",
    "    shadow_mask = 0*image_hls[:,:,1]\n",
    "    X_m = np.mgrid[0:image.shape[0],0:image.shape[1]][0]\n",
    "    Y_m = np.mgrid[0:image.shape[0],0:image.shape[1]][1]\n",
    "    shadow_mask[((X_m-top_x)*(bot_y-top_y) -(bot_x - top_x)*(Y_m-top_y) >=0)]=1\n",
    "    #random_bright = .25+.7*np.random.uniform()\n",
    "    if np.random.randint(2)==1:\n",
    "        random_bright = .5\n",
    "        cond1 = shadow_mask==1\n",
    "        cond0 = shadow_mask==0\n",
    "        if np.random.randint(2)==1:\n",
    "            image_hls[:,:,1][cond1] = image_hls[:,:,1][cond1]*random_bright\n",
    "        else:\n",
    "            image_hls[:,:,1][cond0] = image_hls[:,:,1][cond0]*random_bright    \n",
    "    image = cv2.cvtColor(image_hls,cv2.COLOR_HLS2BGR)\n",
    "    return image"
   ]
  },
  {
   "cell_type": "code",
   "execution_count": null,
   "metadata": {
    "collapsed": true
   },
   "outputs": [],
   "source": [
    "def image_preprocessing(image):\n",
    "    '''\n",
    "    Method for preprocessing images: this method is the same used in drive.py, except this version uses\n",
    "    BGR to YUV and drive.py uses RGB to YUV (due to using cv2 to read the image here, where drive.py images are \n",
    "    received in RGB)\n",
    "    '''\n",
    "    # original shape: 160x320x3\n",
    "    # crop to 90x320x3\n",
    "    image = image[50:140,:,:]\n",
    "    \n",
    "    # scale to 66x200x3 (same as nVidia)\n",
    "    image = cv2.resize(image,(64, 64), interpolation = cv2.INTER_AREA)\n",
    "\n",
    "    # convert to YUV color space (as nVidia paper suggests)\n",
    "    return cv2.cvtColor(image, cv2.COLOR_BGR2YUV)"
   ]
  },
  {
   "cell_type": "code",
   "execution_count": null,
   "metadata": {
    "collapsed": true
   },
   "outputs": [],
   "source": [
    "def generator_training(samples, batch_size=32):\n",
    "    while 1: # Loop forever so the generator never terminates\n",
    "        sklearn.utils.shuffle(samples)\n",
    "        for offset in range(0, len(samples), batch_size):\n",
    "            batch_samples = samples[offset:offset+batch_size]\n",
    "\n",
    "            images = []\n",
    "            angles = []\n",
    "            for batch_sample in batch_samples:\n",
    "                center_image = cv2.imread(dataLocation + '/IMG/'+batch_sample[0].split(directorySplitter)[-1])\n",
    "                left_image = cv2.imread(dataLocation + '/IMG/'+batch_sample[1].split(directorySplitter)[-1])\n",
    "                right_image = cv2.imread(dataLocation + '/IMG/'+batch_sample[2].split(directorySplitter)[-1])\n",
    "                center_angle = float(batch_sample[3])\n",
    "                left_angle = center_angle + correction\n",
    "                right_angle = center_angle - correction\n",
    "                \n",
    "                if np.random.rand() > .5:\n",
    "                    center_image = cv2.flip(center_image, 1)\n",
    "                    left_image = cv2.flip(left_image, 1)\n",
    "                    right_image = cv2.flip(right_image, 1)\n",
    "                    center_angle *= -1\n",
    "                    left_angle *= -1\n",
    "                    right_angle *= -1\n",
    "                \n",
    "                #center_image = augment_brightness_camera_images(center_image)\n",
    "                #center_image, center_angle = trans_image(center_image, center_angle, trans_range)\n",
    "                #center_image = add_random_shadow(center_image)\n",
    "\n",
    "                #left_image = augment_brightness_camera_images(left_image)\n",
    "                #left_image, left_angle = trans_image(left_image, left_angle, trans_range)\n",
    "                #left_image = add_random_shadow(left_image)\n",
    "\n",
    "                #right_image = augment_brightness_camera_images(right_image)\n",
    "                #right_image, right_angle = trans_image(right_image, right_angle, trans_range)\n",
    "                #right_image = add_random_shadow(right_image)\n",
    "                    \n",
    "                images.append(image_preprocessing(center_image))\n",
    "                images.append(image_preprocessing(left_image))\n",
    "                images.append(image_preprocessing(right_image))\n",
    "                \n",
    "                angles.append(center_angle)\n",
    "                angles.append(left_angle)\n",
    "                angles.append(right_angle)\n",
    "\n",
    "            # trim image to only see section with road\n",
    "            X_train = np.array(images)\n",
    "            y_train = np.array(angles)\n",
    "            yield sklearn.utils.shuffle(X_train, y_train)"
   ]
  },
  {
   "cell_type": "code",
   "execution_count": null,
   "metadata": {
    "collapsed": true
   },
   "outputs": [],
   "source": [
    "def generator_validation(samples, batch_size=32):\n",
    "    while 1: # Loop forever so the generator never terminates\n",
    "        sklearn.utils.shuffle(samples)\n",
    "        for offset in range(0, len(samples), batch_size):\n",
    "            batch_samples = samples[offset:offset+batch_size]\n",
    "\n",
    "            images = []\n",
    "            angles = []\n",
    "            for batch_sample in batch_samples:\n",
    "                center_image = cv2.imread(dataLocation + '/IMG/'+batch_sample[0].split(directorySplitter)[-1])\n",
    "                left_image = cv2.imread(dataLocation + '/IMG/'+batch_sample[1].split(directorySplitter)[-1])\n",
    "                right_image = cv2.imread(dataLocation + '/IMG/'+batch_sample[2].split(directorySplitter)[-1])\n",
    "                \n",
    "                center_angle = float(batch_sample[3])\n",
    "                left_angle = center_angle + correction\n",
    "                right_angle = center_angle - correction\n",
    "                \n",
    "                images.append(image_preprocessing(center_image))\n",
    "                images.append(image_preprocessing(left_image))\n",
    "                images.append(image_preprocessing(right_image))\n",
    "                \n",
    "                angles.append(center_angle)\n",
    "                angles.append(left_angle)\n",
    "                angles.append(right_angle)\n",
    "\n",
    "            # trim image to only see section with road\n",
    "            X_train = np.array(images)\n",
    "            y_train = np.array(angles)\n",
    "            yield sklearn.utils.shuffle(X_train, y_train)"
   ]
  },
  {
   "cell_type": "code",
   "execution_count": null,
   "metadata": {
    "collapsed": true
   },
   "outputs": [],
   "source": [
    "# compile and train the model using the generator function\n",
    "train_generator = generator_training(train_samples, batch_size=32)\n",
    "validation_generator = generator_validation(validation_samples, batch_size=32)"
   ]
  },
  {
   "cell_type": "code",
   "execution_count": null,
   "metadata": {
    "collapsed": true
   },
   "outputs": [],
   "source": [
    "# create the base pre-trained model\n",
    "input_shape = (64, 64, 3)\n",
    "input_tensor = Input(shape=input_shape)\n",
    "    \n",
    "base_model = VGG16(input_tensor=input_tensor, weights='imagenet', include_top=False)"
   ]
  },
  {
   "cell_type": "code",
   "execution_count": null,
   "metadata": {
    "collapsed": true
   },
   "outputs": [],
   "source": [
    "# add a global spatial average pooling layer\n",
    "x = base_model.output\n",
    "x = GlobalAveragePooling2D()(x)\n",
    "\n",
    "# add the fully-connected\n",
    "# layer similar to the NVIDIA paper\n",
    "x = Dense(100, activation='elu')(x)\n",
    "x = Dropout(0.5)(x)\n",
    "x = Dense(50, activation='elu')(x)\n",
    "x = Dropout(0.3)(x)\n",
    "x = Dense(10, activation='elu')(x)\n",
    "x = Dropout(0.1)(x)\n",
    "predictions = Dense(1)(x)\n",
    "\n",
    "# create the full model\n",
    "model = Model(input=base_model.input, output=predictions)\n",
    "\n",
    "# freeze all convolutional layers to initialize the top layers\n",
    "for layer in base_model.layers:\n",
    "    layer.trainable = False"
   ]
  },
  {
   "cell_type": "code",
   "execution_count": null,
   "metadata": {},
   "outputs": [],
   "source": [
    "model_path = os.path.expanduser('model_vgg16.h5')\n",
    "save_best = callbacks.ModelCheckpoint(model_path, \n",
    "                                      monitor = 'val_loss', \n",
    "                                      verbose = 1, \n",
    "                                      save_best_only = True, \n",
    "                                      mode = 'min')\n",
    "early_stop = callbacks.EarlyStopping(monitor = 'val_loss', \n",
    "                                     min_delta = 0.001, \n",
    "                                     patience = 3, \n",
    "                                     verbose = 0, \n",
    "                                     mode = 'auto')\n",
    "callbacks_list = [early_stop, save_best]    \n",
    "    \n",
    "model.compile(loss = 'mse', optimizer = 'adam')\n",
    "\n",
    "history_object = model.fit_generator(train_generator, \n",
    "                                     samples_per_epoch = len(train_samples)*3,\n",
    "                                     validation_data = validation_generator,\n",
    "                                     nb_val_samples = len(validation_samples)*3,\n",
    "                                     nb_epoch = 15,\n",
    "                                     callbacks = callbacks_list)"
   ]
  },
  {
   "cell_type": "code",
   "execution_count": null,
   "metadata": {},
   "outputs": [],
   "source": [
    "### plot the training and validation loss for each epoch\n",
    "plt.figure\n",
    "plt.plot(history_object.history['loss'])\n",
    "plt.plot(history_object.history['val_loss'])\n",
    "plt.title('model mean squared error loss')\n",
    "plt.ylabel('mean squared error loss')\n",
    "plt.xlabel('epoch')\n",
    "plt.legend(['training set', 'validation set'], loc='upper right')\n",
    "plt.show()"
   ]
  }
 ],
 "metadata": {
  "kernelspec": {
   "display_name": "Python 3",
   "language": "python",
   "name": "python3"
  },
  "language_info": {
   "codemirror_mode": {
    "name": "ipython",
    "version": 3
   },
   "file_extension": ".py",
   "mimetype": "text/x-python",
   "name": "python",
   "nbconvert_exporter": "python",
   "pygments_lexer": "ipython3",
   "version": "3.5.2"
  },
  "widgets": {
   "state": {},
   "version": "1.1.2"
  }
 },
 "nbformat": 4,
 "nbformat_minor": 2
}
